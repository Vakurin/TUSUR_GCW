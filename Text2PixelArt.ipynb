{
  "nbformat": 4,
  "nbformat_minor": 0,
  "metadata": {
    "accelerator": "GPU",
    "colab": {
      "name": "[Forked by Denis Sexy IT] Text2PixelArt",
      "provenance": [],
      "collapsed_sections": [],
      "machine_shape": "hm",
      "include_colab_link": true
    },
    "kernelspec": {
      "display_name": "Python 3 (ipykernel)",
      "language": "python",
      "name": "python3"
    },
    "language_info": {
      "codemirror_mode": {
        "name": "ipython",
        "version": 3
      },
      "file_extension": ".py",
      "mimetype": "text/x-python",
      "name": "python",
      "nbconvert_exporter": "python",
      "pygments_lexer": "ipython3",
      "version": "3.8.10"
    }
  },
  "cells": [
    {
      "cell_type": "markdown",
      "metadata": {
        "id": "view-in-github",
        "colab_type": "text"
      },
      "source": [
        "<a href=\"https://colab.research.google.com/github/Vakurin/TUSUR_GCW/blob/master/Text2PixelArt.ipynb\" target=\"_parent\"><img src=\"https://colab.research.google.com/assets/colab-badge.svg\" alt=\"Open In Colab\"/></a>"
      ]
    },
    {
      "cell_type": "markdown",
      "metadata": {
        "id": "ESoVZxTtFmup"
      },
      "source": [
        "<b><font color=\"black\" size=\"+4\">Text2PixelArt</font></b>\n",
        "\n",
        "\n"
      ]
    },
    {
      "cell_type": "code",
      "metadata": {
        "colab": {
          "base_uri": "https://localhost:8080/"
        },
        "id": "IKM-B7vL9KKq",
        "outputId": "1bb004f6-bcdf-45e4-a5bf-7af81235e28c"
      },
      "source": [
        "!nvidia-smi"
      ],
      "execution_count": 1,
      "outputs": [
        {
          "output_type": "stream",
          "name": "stdout",
          "text": [
            "Tue Sep  7 22:35:07 2021       \n",
            "+-----------------------------------------------------------------------------+\n",
            "| NVIDIA-SMI 470.63.01    Driver Version: 460.32.03    CUDA Version: 11.2     |\n",
            "|-------------------------------+----------------------+----------------------+\n",
            "| GPU  Name        Persistence-M| Bus-Id        Disp.A | Volatile Uncorr. ECC |\n",
            "| Fan  Temp  Perf  Pwr:Usage/Cap|         Memory-Usage | GPU-Util  Compute M. |\n",
            "|                               |                      |               MIG M. |\n",
            "|===============================+======================+======================|\n",
            "|   0  Tesla P100-PCIE...  Off  | 00000000:00:04.0 Off |                    0 |\n",
            "| N/A   38C    P0    27W / 250W |      0MiB / 16280MiB |      0%      Default |\n",
            "|                               |                      |                  N/A |\n",
            "+-------------------------------+----------------------+----------------------+\n",
            "                                                                               \n",
            "+-----------------------------------------------------------------------------+\n",
            "| Processes:                                                                  |\n",
            "|  GPU   GI   CI        PID   Type   Process name                  GPU Memory |\n",
            "|        ID   ID                                                   Usage      |\n",
            "|=============================================================================|\n",
            "|  No running processes found                                                 |\n",
            "+-----------------------------------------------------------------------------+\n"
          ]
        }
      ]
    },
    {
      "cell_type": "code",
      "metadata": {
        "id": "qQOvOhnKQ-Tu",
        "colab": {
          "base_uri": "https://localhost:8080/",
          "height": 166
        },
        "outputId": "f149f944-aea5-40b2-8373-a47c9d75e158"
      },
      "source": [
        "print('Wait a few minutes for all the required libraries to be installed.')\n",
        "\n",
        "try: \n",
        "  !pip3 install googletrans==3.1.0a0\n",
        "  from googletrans import Translator, constants\n",
        "  from pprint import pprint\n",
        "  translator = Translator()\n",
        "except: pass\n",
        "\n",
        "from IPython.display import clear_output\n",
        "\n",
        "from IPython.utils import io\n",
        "with io.capture_output() as captured:\n",
        "  !wget \"https://i.imgur.com/8LxvNL3.jpeg\" -O /content/party.jpg\n",
        "  !git clone https://github.com/openai/CLIP\n",
        "  # !pip install taming-transformers\n",
        "  !git clone https://github.com/CompVis/taming-transformers.git\n",
        "  !rm -Rf clipit\n",
        "  !git clone https://github.com/ViktorAlm/clipit\n",
        "  !pip install ftfy regex tqdm omegaconf pytorch-lightning\n",
        "  !pip install kornia\n",
        "  !pip install imageio-ffmpeg   \n",
        "  !pip install einops\n",
        "  !pip install torch-optimizer\n",
        "  !pip install easydict\n",
        "  !pip install braceexpand\n",
        "  !pip install git+https://github.com/pvigier/perlin-numpy\n",
        "\n",
        "  # ClipDraw deps\n",
        "  !pip install svgwrite\n",
        "  !pip install svgpathtools\n",
        "  !pip install cssutils\n",
        "  !pip install numba\n",
        "  !pip install torch-tools\n",
        "  !pip install visdom\n",
        "\n",
        "  !git clone https://github.com/BachiLi/diffvg\n",
        "  %cd diffvg\n",
        "  # !ls\n",
        "  !git submodule update --init --recursive\n",
        "  !python setup.py install\n",
        "  %cd ..\n",
        "\n",
        "import sys\n",
        "sys.path.append(\"clipit\")\n",
        "\n",
        "result_msg = \"setup complete\"\n",
        "import IPython\n",
        "import os\n",
        "clear_output()\n",
        "print('\\nDone!\\n')\n",
        "if not os.path.isfile(\"first_init_complete\"):\n",
        "  # put stuff in here that should only happen once\n",
        "  !mkdir -p models\n",
        "  os.mknod(\"first_init_complete\")\n",
        "  result_msg = \"Please choose Runtime -> Restart Runtime from the menu\"\n",
        "\n",
        "js_code = f'''\n",
        "document.querySelector(\"#output-area\").appendChild(document.createTextNode(\"{result_msg}\"));\n",
        "'''\n",
        "js_code += '''\n",
        "for (rule of document.styleSheets[0].cssRules){\n",
        "  if (rule.selectorText=='body') break\n",
        "}\n",
        "rule.style.fontSize = '30px'\n",
        "'''\n",
        "display(IPython.display.Javascript(js_code))"
      ],
      "execution_count": 1,
      "outputs": [
        {
          "output_type": "stream",
          "name": "stdout",
          "text": [
            "\n",
            "Done!\n",
            "\n"
          ]
        },
        {
          "output_type": "display_data",
          "data": {
            "application/javascript": [
              "\n",
              "document.querySelector(\"#output-area\").appendChild(document.createTextNode(\"setup complete\"));\n",
              "\n",
              "for (rule of document.styleSheets[0].cssRules){\n",
              "  if (rule.selectorText=='body') break\n",
              "}\n",
              "rule.style.fontSize = '30px'\n"
            ],
            "text/plain": [
              "<IPython.core.display.Javascript object>"
            ]
          },
          "metadata": {}
        }
      ]
    },
    {
      "cell_type": "code",
      "metadata": {
        "colab": {
          "base_uri": "https://localhost:8080/"
        },
        "id": "PZfi97tr9azF",
        "outputId": "b0d02699-2ce5-48c9-d152-e967e55ea5c3"
      },
      "source": [
        "from google.colab import drive\n",
        "drive.mount('/content/drive')"
      ],
      "execution_count": 2,
      "outputs": [
        {
          "output_type": "stream",
          "name": "stdout",
          "text": [
            "Mounted at /content/drive\n"
          ]
        }
      ]
    },
    {
      "cell_type": "code",
      "metadata": {
        "id": "WD9zo7FT9Iph"
      },
      "source": [
        "import pandas as pd\n",
        "df = pd.read_csv('/content/drive/MyDrive/PixWorldNFT/PixWorldNFT.csv', sep=';')"
      ],
      "execution_count": 3,
      "outputs": []
    },
    {
      "cell_type": "code",
      "metadata": {
        "id": "YEWLbcw_0gFj",
        "outputId": "26314b01-3ccb-4872-ed95-ec338b912f2e",
        "colab": {
          "base_uri": "https://localhost:8080/"
        }
      },
      "source": [
        "df['city_ascii'][235:240]"
      ],
      "execution_count": 5,
      "outputs": [
        {
          "output_type": "execute_result",
          "data": {
            "text/plain": [
              "173          Dalian\n",
              "174        Hengshui\n",
              "175        Yangzhou\n",
              "176          Harbin\n",
              "177           Yibin\n",
              "178    Johannesburg\n",
              "179          Yiyang\n",
              "180         Meizhou\n",
              "181         Chifeng\n",
              "182      Casablanca\n",
              "183         Guiyang\n",
              "184        Langfang\n",
              "185     Zhangjiakou\n",
              "186           Izmir\n",
              "187          Linfen\n",
              "188         Wenzhou\n",
              "189       Monterrey\n",
              "Name: city_ascii, dtype: object"
            ]
          },
          "metadata": {},
          "execution_count": 5
        }
      ]
    },
    {
      "cell_type": "code",
      "metadata": {
        "id": "Fns82osp-d8J"
      },
      "source": [
        "list_cityes = list(df['city_ascii'])[173:]"
      ],
      "execution_count": 6,
      "outputs": []
    },
    {
      "cell_type": "code",
      "metadata": {
        "colab": {
          "base_uri": "https://localhost:8080/"
        },
        "id": "0TbHxLmNUqrv",
        "outputId": "5c3a0577-0eaa-4dc5-f4d6-95027ceb3b32"
      },
      "source": [
        "import sys\n",
        "sys.path.append(\"clipit\")\n",
        "\n",
        "from IPython.display import clear_output\n",
        "\n",
        "result_msg = \"setup complete\"\n",
        "import IPython\n",
        "import os\n",
        "if not os.path.isfile(\"first_init_complete\"):\n",
        "  # put stuff in here that should only happen once\n",
        "  !mkdir -p models\n",
        "  os.mknod(\"first_init_complete\")\n",
        "\n",
        "use_pixeldraw = True \n",
        "for index, city in enumerate(list_cityes):\n",
        "  text = city + ' City'\n",
        "  try:\n",
        "    from googletrans import Translator, constants\n",
        "    from pprint import pprint\n",
        "    translator = Translator()\n",
        "    translation = translator.translate(text)\n",
        "    new_text = translation.text\n",
        "  except: new_text = text\n",
        "  if use_pixeldraw: prompts = new_text + ' #pixelart'\n",
        "  else: prompts = new_text\n",
        "\n",
        "  iteration = 200 \n",
        "  aspect = \"square\" # [\"widescreen\", \"square\"]\n",
        "  scale = 2 # {type:\"slider\", min:1, max:8, step:0.25}\n",
        "  seed = 2 \n",
        "  if seed == 0: seen = None\n",
        "  monochrom = False # {type:\"boolean\"}\n",
        "  init_image = \"/content/party.jpg\" \n",
        "  out_dir = f'/content/drive/MyDrive/PixWorldNFT/{text}.png'\n",
        "  # Simple setup\n",
        "  import clipit\n",
        "  from pixeldrawer import PixelDrawer\n",
        "\n",
        "  # these are good settings for pixeldraw\n",
        "  clipit.reset_settings()\n",
        "  clipit.add_settings(prompts=prompts, aspect=aspect)\n",
        "  clipit.add_settings(quality=\"better\", scale=scale)\n",
        "  clipit.add_settings(use_pixeldraw=use_pixeldraw)\n",
        "  clipit.add_settings(iterations=iteration)\n",
        "  clipit.add_settings(seed=seed)\n",
        "  clipit.add_settings(init_image=init_image)\n",
        "  clipit.add_settings(save_every=100)\n",
        "  clipit.add_settings(output=out_dir)\n",
        "  \n",
        "  settings = clipit.apply_settings()\n",
        "  clipit.do_init(settings)\n",
        "  clear_output()\n",
        "  print(f\"START {city} - index: {index}\") \n",
        "  clipit.do_run(settings)"
      ],
      "execution_count": null,
      "outputs": [
        {
          "output_type": "stream",
          "name": "stdout",
          "text": [
            "START Santa Cruz - index: 72\n"
          ]
        },
        {
          "output_type": "stream",
          "name": "stderr",
          "text": [
            "0it [00:01, ?it/s]"
          ]
        },
        {
          "output_type": "stream",
          "name": "stdout",
          "text": [
            "iter: 0, loss: 2.67056, losses: 0.927957, 0.869753, 0.872853\n"
          ]
        },
        {
          "output_type": "stream",
          "name": "stderr",
          "text": [
            "83it [08:23,  6.03s/it]"
          ]
        }
      ]
    },
    {
      "cell_type": "code",
      "metadata": {
        "id": "-dSyHz2msWHh"
      },
      "source": [
        "\n"
      ],
      "execution_count": null,
      "outputs": []
    }
  ]
}